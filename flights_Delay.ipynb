{
 "cells": [
  {
   "cell_type": "markdown",
   "id": "afe07888",
   "metadata": {},
   "source": [
    "## Analysis: 2015 Flight Delays and Cancellations in US\n"
   ]
  },
  {
   "cell_type": "markdown",
   "id": "4f1b61ae",
   "metadata": {},
   "source": [
    "### Importing Libraries"
   ]
  },
  {
   "cell_type": "code",
   "execution_count": 1,
   "id": "67ed8670",
   "metadata": {},
   "outputs": [],
   "source": [
    "import pandas as pd\n",
    "import numpy as np"
   ]
  },
  {
   "cell_type": "markdown",
   "id": "42af8978",
   "metadata": {},
   "source": [
    "### Loadind Data"
   ]
  },
  {
   "cell_type": "code",
   "execution_count": 2,
   "id": "5bbe8123",
   "metadata": {},
   "outputs": [
    {
     "data": {
      "text/html": [
       "<div>\n",
       "<style scoped>\n",
       "    .dataframe tbody tr th:only-of-type {\n",
       "        vertical-align: middle;\n",
       "    }\n",
       "\n",
       "    .dataframe tbody tr th {\n",
       "        vertical-align: top;\n",
       "    }\n",
       "\n",
       "    .dataframe thead th {\n",
       "        text-align: right;\n",
       "    }\n",
       "</style>\n",
       "<table border=\"1\" class=\"dataframe\">\n",
       "  <thead>\n",
       "    <tr style=\"text-align: right;\">\n",
       "      <th></th>\n",
       "      <th>YEAR</th>\n",
       "      <th>MONTH</th>\n",
       "      <th>DAY</th>\n",
       "      <th>DAY_OF_WEEK</th>\n",
       "      <th>AIRLINE</th>\n",
       "      <th>FLIGHT_NUMBER</th>\n",
       "      <th>TAIL_NUMBER</th>\n",
       "      <th>ORIGIN_AIRPORT</th>\n",
       "      <th>DESTINATION_AIRPORT</th>\n",
       "      <th>SCHEDULED_DEPARTURE</th>\n",
       "      <th>...</th>\n",
       "      <th>ARRIVAL_TIME</th>\n",
       "      <th>ARRIVAL_DELAY</th>\n",
       "      <th>DIVERTED</th>\n",
       "      <th>CANCELLED</th>\n",
       "      <th>CANCELLATION_REASON</th>\n",
       "      <th>AIR_SYSTEM_DELAY</th>\n",
       "      <th>SECURITY_DELAY</th>\n",
       "      <th>AIRLINE_DELAY</th>\n",
       "      <th>LATE_AIRCRAFT_DELAY</th>\n",
       "      <th>WEATHER_DELAY</th>\n",
       "    </tr>\n",
       "  </thead>\n",
       "  <tbody>\n",
       "    <tr>\n",
       "      <th>0</th>\n",
       "      <td>2015</td>\n",
       "      <td>11</td>\n",
       "      <td>28</td>\n",
       "      <td>6</td>\n",
       "      <td>DL</td>\n",
       "      <td>1590</td>\n",
       "      <td>N971AT</td>\n",
       "      <td>CAE</td>\n",
       "      <td>ATL</td>\n",
       "      <td>700</td>\n",
       "      <td>...</td>\n",
       "      <td>756.0</td>\n",
       "      <td>-12</td>\n",
       "      <td>0</td>\n",
       "      <td>0</td>\n",
       "      <td>Not Cancelled</td>\n",
       "      <td>0</td>\n",
       "      <td>0</td>\n",
       "      <td>0</td>\n",
       "      <td>0</td>\n",
       "      <td>0</td>\n",
       "    </tr>\n",
       "    <tr>\n",
       "      <th>1</th>\n",
       "      <td>2015</td>\n",
       "      <td>11</td>\n",
       "      <td>2</td>\n",
       "      <td>1</td>\n",
       "      <td>AA</td>\n",
       "      <td>2516</td>\n",
       "      <td>N3CVAA</td>\n",
       "      <td>ORD</td>\n",
       "      <td>DEN</td>\n",
       "      <td>1715</td>\n",
       "      <td>...</td>\n",
       "      <td>1940.0</td>\n",
       "      <td>41</td>\n",
       "      <td>0</td>\n",
       "      <td>0</td>\n",
       "      <td>Not Cancelled</td>\n",
       "      <td>13</td>\n",
       "      <td>0</td>\n",
       "      <td>28</td>\n",
       "      <td>0</td>\n",
       "      <td>0</td>\n",
       "    </tr>\n",
       "    <tr>\n",
       "      <th>2</th>\n",
       "      <td>2015</td>\n",
       "      <td>8</td>\n",
       "      <td>22</td>\n",
       "      <td>6</td>\n",
       "      <td>AS</td>\n",
       "      <td>93</td>\n",
       "      <td>N317AS</td>\n",
       "      <td>SEA</td>\n",
       "      <td>ANC</td>\n",
       "      <td>1355</td>\n",
       "      <td>...</td>\n",
       "      <td>1619.0</td>\n",
       "      <td>-16</td>\n",
       "      <td>0</td>\n",
       "      <td>0</td>\n",
       "      <td>Not Cancelled</td>\n",
       "      <td>0</td>\n",
       "      <td>0</td>\n",
       "      <td>0</td>\n",
       "      <td>0</td>\n",
       "      <td>0</td>\n",
       "    </tr>\n",
       "    <tr>\n",
       "      <th>274961</th>\n",
       "      <td>2015</td>\n",
       "      <td>7</td>\n",
       "      <td>12</td>\n",
       "      <td>7</td>\n",
       "      <td>DL</td>\n",
       "      <td>2794</td>\n",
       "      <td>N662DN</td>\n",
       "      <td>DTW</td>\n",
       "      <td>ATL</td>\n",
       "      <td>725</td>\n",
       "      <td>...</td>\n",
       "      <td>931.0</td>\n",
       "      <td>11</td>\n",
       "      <td>0</td>\n",
       "      <td>0</td>\n",
       "      <td>Not Cancelled</td>\n",
       "      <td>0</td>\n",
       "      <td>0</td>\n",
       "      <td>0</td>\n",
       "      <td>0</td>\n",
       "      <td>0</td>\n",
       "    </tr>\n",
       "    <tr>\n",
       "      <th>274962</th>\n",
       "      <td>2015</td>\n",
       "      <td>11</td>\n",
       "      <td>16</td>\n",
       "      <td>1</td>\n",
       "      <td>AS</td>\n",
       "      <td>182</td>\n",
       "      <td>N767AS</td>\n",
       "      <td>ANC</td>\n",
       "      <td>SEA</td>\n",
       "      <td>1100</td>\n",
       "      <td>...</td>\n",
       "      <td>1505.0</td>\n",
       "      <td>-19</td>\n",
       "      <td>0</td>\n",
       "      <td>0</td>\n",
       "      <td>Not Cancelled</td>\n",
       "      <td>0</td>\n",
       "      <td>0</td>\n",
       "      <td>0</td>\n",
       "      <td>0</td>\n",
       "      <td>0</td>\n",
       "    </tr>\n",
       "    <tr>\n",
       "      <th>274963</th>\n",
       "      <td>2015</td>\n",
       "      <td>1</td>\n",
       "      <td>29</td>\n",
       "      <td>4</td>\n",
       "      <td>B6</td>\n",
       "      <td>761</td>\n",
       "      <td>N746JB</td>\n",
       "      <td>LGA</td>\n",
       "      <td>PBI</td>\n",
       "      <td>1945</td>\n",
       "      <td>...</td>\n",
       "      <td>2241.0</td>\n",
       "      <td>-4</td>\n",
       "      <td>0</td>\n",
       "      <td>0</td>\n",
       "      <td>Not Cancelled</td>\n",
       "      <td>0</td>\n",
       "      <td>0</td>\n",
       "      <td>0</td>\n",
       "      <td>0</td>\n",
       "      <td>0</td>\n",
       "    </tr>\n",
       "  </tbody>\n",
       "</table>\n",
       "<p>6 rows × 31 columns</p>\n",
       "</div>"
      ],
      "text/plain": [
       "        YEAR  MONTH  DAY  DAY_OF_WEEK AIRLINE  FLIGHT_NUMBER TAIL_NUMBER  \\\n",
       "0       2015     11   28            6      DL           1590      N971AT   \n",
       "1       2015     11    2            1      AA           2516      N3CVAA   \n",
       "2       2015      8   22            6      AS             93      N317AS   \n",
       "274961  2015      7   12            7      DL           2794      N662DN   \n",
       "274962  2015     11   16            1      AS            182      N767AS   \n",
       "274963  2015      1   29            4      B6            761      N746JB   \n",
       "\n",
       "       ORIGIN_AIRPORT DESTINATION_AIRPORT  SCHEDULED_DEPARTURE  ...  \\\n",
       "0                 CAE                 ATL                  700  ...   \n",
       "1                 ORD                 DEN                 1715  ...   \n",
       "2                 SEA                 ANC                 1355  ...   \n",
       "274961            DTW                 ATL                  725  ...   \n",
       "274962            ANC                 SEA                 1100  ...   \n",
       "274963            LGA                 PBI                 1945  ...   \n",
       "\n",
       "        ARRIVAL_TIME  ARRIVAL_DELAY  DIVERTED  CANCELLED  CANCELLATION_REASON  \\\n",
       "0              756.0            -12         0          0        Not Cancelled   \n",
       "1             1940.0             41         0          0        Not Cancelled   \n",
       "2             1619.0            -16         0          0        Not Cancelled   \n",
       "274961         931.0             11         0          0        Not Cancelled   \n",
       "274962        1505.0            -19         0          0        Not Cancelled   \n",
       "274963        2241.0             -4         0          0        Not Cancelled   \n",
       "\n",
       "        AIR_SYSTEM_DELAY  SECURITY_DELAY  AIRLINE_DELAY  LATE_AIRCRAFT_DELAY  \\\n",
       "0                      0               0              0                    0   \n",
       "1                     13               0             28                    0   \n",
       "2                      0               0              0                    0   \n",
       "274961                 0               0              0                    0   \n",
       "274962                 0               0              0                    0   \n",
       "274963                 0               0              0                    0   \n",
       "\n",
       "        WEATHER_DELAY  \n",
       "0                   0  \n",
       "1                   0  \n",
       "2                   0  \n",
       "274961              0  \n",
       "274962              0  \n",
       "274963              0  \n",
       "\n",
       "[6 rows x 31 columns]"
      ]
     },
     "execution_count": 2,
     "metadata": {},
     "output_type": "execute_result"
    }
   ],
   "source": [
    "df = pd.read_csv(r\"C:\\Users\\nhnah\\OneDrive\\Desktop\\flights.csv\")\n",
    "df.head(3).append(df.tail(3))"
   ]
  },
  {
   "cell_type": "code",
   "execution_count": 3,
   "id": "399434fa",
   "metadata": {},
   "outputs": [
    {
     "name": "stdout",
     "output_type": "stream",
     "text": [
      "<class 'pandas.core.frame.DataFrame'>\n",
      "RangeIndex: 274964 entries, 0 to 274963\n",
      "Data columns (total 31 columns):\n",
      " #   Column               Non-Null Count   Dtype  \n",
      "---  ------               --------------   -----  \n",
      " 0   YEAR                 274964 non-null  int64  \n",
      " 1   MONTH                274964 non-null  int64  \n",
      " 2   DAY                  274964 non-null  int64  \n",
      " 3   DAY_OF_WEEK          274964 non-null  int64  \n",
      " 4   AIRLINE              274964 non-null  object \n",
      " 5   FLIGHT_NUMBER        274964 non-null  int64  \n",
      " 6   TAIL_NUMBER          274225 non-null  object \n",
      " 7   ORIGIN_AIRPORT       274964 non-null  object \n",
      " 8   DESTINATION_AIRPORT  274964 non-null  object \n",
      " 9   SCHEDULED_DEPARTURE  274964 non-null  int64  \n",
      " 10  DEPARTURE_TIME       270719 non-null  float64\n",
      " 11  DEPARTURE_DELAY      274964 non-null  int64  \n",
      " 12  TAXI_OUT             270571 non-null  float64\n",
      " 13  WHEELS_OFF           270571 non-null  float64\n",
      " 14  SCHEDULED_TIME       274964 non-null  int64  \n",
      " 15  ELAPSED_TIME         269773 non-null  float64\n",
      " 16  AIR_TIME             269773 non-null  float64\n",
      " 17  DISTANCE             274964 non-null  int64  \n",
      " 18  WHEELS_ON            270377 non-null  float64\n",
      " 19  TAXI_IN              270377 non-null  float64\n",
      " 20  SCHEDULED_ARRIVAL    274964 non-null  int64  \n",
      " 21  ARRIVAL_TIME         270377 non-null  float64\n",
      " 22  ARRIVAL_DELAY        274964 non-null  int64  \n",
      " 23  DIVERTED             274964 non-null  int64  \n",
      " 24  CANCELLED            274964 non-null  int64  \n",
      " 25  CANCELLATION_REASON  274964 non-null  object \n",
      " 26  AIR_SYSTEM_DELAY     274964 non-null  int64  \n",
      " 27  SECURITY_DELAY       274964 non-null  int64  \n",
      " 28  AIRLINE_DELAY        274964 non-null  int64  \n",
      " 29  LATE_AIRCRAFT_DELAY  274964 non-null  int64  \n",
      " 30  WEATHER_DELAY        274964 non-null  int64  \n",
      "dtypes: float64(8), int64(18), object(5)\n",
      "memory usage: 65.0+ MB\n"
     ]
    }
   ],
   "source": [
    "df.info()"
   ]
  },
  {
   "cell_type": "code",
   "execution_count": 4,
   "id": "8c60ad5f",
   "metadata": {},
   "outputs": [
    {
     "data": {
      "text/plain": [
       "YEAR                      0\n",
       "MONTH                     0\n",
       "DAY                       0\n",
       "DAY_OF_WEEK               0\n",
       "AIRLINE                   0\n",
       "FLIGHT_NUMBER             0\n",
       "TAIL_NUMBER             739\n",
       "ORIGIN_AIRPORT            0\n",
       "DESTINATION_AIRPORT       0\n",
       "SCHEDULED_DEPARTURE       0\n",
       "DEPARTURE_TIME         4245\n",
       "DEPARTURE_DELAY           0\n",
       "TAXI_OUT               4393\n",
       "WHEELS_OFF             4393\n",
       "SCHEDULED_TIME            0\n",
       "ELAPSED_TIME           5191\n",
       "AIR_TIME               5191\n",
       "DISTANCE                  0\n",
       "WHEELS_ON              4587\n",
       "TAXI_IN                4587\n",
       "SCHEDULED_ARRIVAL         0\n",
       "ARRIVAL_TIME           4587\n",
       "ARRIVAL_DELAY             0\n",
       "DIVERTED                  0\n",
       "CANCELLED                 0\n",
       "CANCELLATION_REASON       0\n",
       "AIR_SYSTEM_DELAY          0\n",
       "SECURITY_DELAY            0\n",
       "AIRLINE_DELAY             0\n",
       "LATE_AIRCRAFT_DELAY       0\n",
       "WEATHER_DELAY             0\n",
       "dtype: int64"
      ]
     },
     "execution_count": 4,
     "metadata": {},
     "output_type": "execute_result"
    }
   ],
   "source": [
    "df.isnull().sum()"
   ]
  },
  {
   "cell_type": "code",
   "execution_count": 5,
   "id": "952bf922",
   "metadata": {},
   "outputs": [
    {
     "data": {
      "text/html": [
       "<div>\n",
       "<style scoped>\n",
       "    .dataframe tbody tr th:only-of-type {\n",
       "        vertical-align: middle;\n",
       "    }\n",
       "\n",
       "    .dataframe tbody tr th {\n",
       "        vertical-align: top;\n",
       "    }\n",
       "\n",
       "    .dataframe thead th {\n",
       "        text-align: right;\n",
       "    }\n",
       "</style>\n",
       "<table border=\"1\" class=\"dataframe\">\n",
       "  <thead>\n",
       "    <tr style=\"text-align: right;\">\n",
       "      <th></th>\n",
       "      <th>IATA_CODE</th>\n",
       "      <th>AIRLINE</th>\n",
       "    </tr>\n",
       "  </thead>\n",
       "  <tbody>\n",
       "    <tr>\n",
       "      <th>0</th>\n",
       "      <td>UA</td>\n",
       "      <td>United Air Lines Inc.</td>\n",
       "    </tr>\n",
       "    <tr>\n",
       "      <th>1</th>\n",
       "      <td>AA</td>\n",
       "      <td>American Airlines Inc.</td>\n",
       "    </tr>\n",
       "    <tr>\n",
       "      <th>2</th>\n",
       "      <td>US</td>\n",
       "      <td>US Airways Inc.</td>\n",
       "    </tr>\n",
       "    <tr>\n",
       "      <th>3</th>\n",
       "      <td>F9</td>\n",
       "      <td>Frontier Airlines Inc.</td>\n",
       "    </tr>\n",
       "    <tr>\n",
       "      <th>4</th>\n",
       "      <td>B6</td>\n",
       "      <td>JetBlue Airways</td>\n",
       "    </tr>\n",
       "    <tr>\n",
       "      <th>5</th>\n",
       "      <td>OO</td>\n",
       "      <td>Skywest Airlines Inc.</td>\n",
       "    </tr>\n",
       "    <tr>\n",
       "      <th>6</th>\n",
       "      <td>AS</td>\n",
       "      <td>Alaska Airlines Inc.</td>\n",
       "    </tr>\n",
       "    <tr>\n",
       "      <th>7</th>\n",
       "      <td>NK</td>\n",
       "      <td>Spirit Air Lines</td>\n",
       "    </tr>\n",
       "    <tr>\n",
       "      <th>8</th>\n",
       "      <td>WN</td>\n",
       "      <td>Southwest Airlines Co.</td>\n",
       "    </tr>\n",
       "    <tr>\n",
       "      <th>9</th>\n",
       "      <td>DL</td>\n",
       "      <td>Delta Air Lines Inc.</td>\n",
       "    </tr>\n",
       "    <tr>\n",
       "      <th>10</th>\n",
       "      <td>EV</td>\n",
       "      <td>Atlantic Southeast Airlines</td>\n",
       "    </tr>\n",
       "    <tr>\n",
       "      <th>11</th>\n",
       "      <td>HA</td>\n",
       "      <td>Hawaiian Airlines Inc.</td>\n",
       "    </tr>\n",
       "    <tr>\n",
       "      <th>12</th>\n",
       "      <td>MQ</td>\n",
       "      <td>American Eagle Airlines Inc.</td>\n",
       "    </tr>\n",
       "    <tr>\n",
       "      <th>13</th>\n",
       "      <td>VX</td>\n",
       "      <td>Virgin America</td>\n",
       "    </tr>\n",
       "  </tbody>\n",
       "</table>\n",
       "</div>"
      ],
      "text/plain": [
       "   IATA_CODE                       AIRLINE\n",
       "0         UA         United Air Lines Inc.\n",
       "1         AA        American Airlines Inc.\n",
       "2         US               US Airways Inc.\n",
       "3         F9        Frontier Airlines Inc.\n",
       "4         B6               JetBlue Airways\n",
       "5         OO         Skywest Airlines Inc.\n",
       "6         AS          Alaska Airlines Inc.\n",
       "7         NK              Spirit Air Lines\n",
       "8         WN        Southwest Airlines Co.\n",
       "9         DL          Delta Air Lines Inc.\n",
       "10        EV   Atlantic Southeast Airlines\n",
       "11        HA        Hawaiian Airlines Inc.\n",
       "12        MQ  American Eagle Airlines Inc.\n",
       "13        VX                Virgin America"
      ]
     },
     "execution_count": 5,
     "metadata": {},
     "output_type": "execute_result"
    }
   ],
   "source": [
    "df1 = pd.read_csv(r\"C:\\Users\\nhnah\\OneDrive\\Desktop\\airlines.csv\")\n",
    "df1"
   ]
  },
  {
   "cell_type": "code",
   "execution_count": 6,
   "id": "da2934da",
   "metadata": {},
   "outputs": [
    {
     "name": "stdout",
     "output_type": "stream",
     "text": [
      "<class 'pandas.core.frame.DataFrame'>\n",
      "RangeIndex: 14 entries, 0 to 13\n",
      "Data columns (total 2 columns):\n",
      " #   Column     Non-Null Count  Dtype \n",
      "---  ------     --------------  ----- \n",
      " 0   IATA_CODE  14 non-null     object\n",
      " 1   AIRLINE    14 non-null     object\n",
      "dtypes: object(2)\n",
      "memory usage: 352.0+ bytes\n"
     ]
    }
   ],
   "source": [
    "df1.info()"
   ]
  },
  {
   "cell_type": "code",
   "execution_count": 7,
   "id": "cea328ef",
   "metadata": {},
   "outputs": [
    {
     "data": {
      "text/plain": [
       "IATA_CODE    0\n",
       "AIRLINE      0\n",
       "dtype: int64"
      ]
     },
     "execution_count": 7,
     "metadata": {},
     "output_type": "execute_result"
    }
   ],
   "source": [
    "df1.isnull().sum()"
   ]
  },
  {
   "cell_type": "code",
   "execution_count": 8,
   "id": "efb619a3",
   "metadata": {},
   "outputs": [
    {
     "data": {
      "text/html": [
       "<div>\n",
       "<style scoped>\n",
       "    .dataframe tbody tr th:only-of-type {\n",
       "        vertical-align: middle;\n",
       "    }\n",
       "\n",
       "    .dataframe tbody tr th {\n",
       "        vertical-align: top;\n",
       "    }\n",
       "\n",
       "    .dataframe thead th {\n",
       "        text-align: right;\n",
       "    }\n",
       "</style>\n",
       "<table border=\"1\" class=\"dataframe\">\n",
       "  <thead>\n",
       "    <tr style=\"text-align: right;\">\n",
       "      <th></th>\n",
       "      <th>IATA_CODE</th>\n",
       "      <th>AIRPORT</th>\n",
       "      <th>CITY</th>\n",
       "      <th>STATE</th>\n",
       "      <th>COUNTRY</th>\n",
       "      <th>LATITUDE</th>\n",
       "      <th>LONGITUDE</th>\n",
       "    </tr>\n",
       "  </thead>\n",
       "  <tbody>\n",
       "    <tr>\n",
       "      <th>0</th>\n",
       "      <td>ABE</td>\n",
       "      <td>Lehigh Valley International Airport</td>\n",
       "      <td>Allentown</td>\n",
       "      <td>PA</td>\n",
       "      <td>USA</td>\n",
       "      <td>40.65236</td>\n",
       "      <td>-75.44040</td>\n",
       "    </tr>\n",
       "    <tr>\n",
       "      <th>1</th>\n",
       "      <td>ABI</td>\n",
       "      <td>Abilene Regional Airport</td>\n",
       "      <td>Abilene</td>\n",
       "      <td>TX</td>\n",
       "      <td>USA</td>\n",
       "      <td>32.41132</td>\n",
       "      <td>-99.68190</td>\n",
       "    </tr>\n",
       "    <tr>\n",
       "      <th>2</th>\n",
       "      <td>ABQ</td>\n",
       "      <td>Albuquerque International Sunport</td>\n",
       "      <td>Albuquerque</td>\n",
       "      <td>NM</td>\n",
       "      <td>USA</td>\n",
       "      <td>35.04022</td>\n",
       "      <td>-106.60919</td>\n",
       "    </tr>\n",
       "    <tr>\n",
       "      <th>3</th>\n",
       "      <td>ABR</td>\n",
       "      <td>Aberdeen Regional Airport</td>\n",
       "      <td>Aberdeen</td>\n",
       "      <td>SD</td>\n",
       "      <td>USA</td>\n",
       "      <td>45.44906</td>\n",
       "      <td>-98.42183</td>\n",
       "    </tr>\n",
       "    <tr>\n",
       "      <th>4</th>\n",
       "      <td>ABY</td>\n",
       "      <td>Southwest Georgia Regional Airport</td>\n",
       "      <td>Albany</td>\n",
       "      <td>GA</td>\n",
       "      <td>USA</td>\n",
       "      <td>31.53552</td>\n",
       "      <td>-84.19447</td>\n",
       "    </tr>\n",
       "    <tr>\n",
       "      <th>...</th>\n",
       "      <td>...</td>\n",
       "      <td>...</td>\n",
       "      <td>...</td>\n",
       "      <td>...</td>\n",
       "      <td>...</td>\n",
       "      <td>...</td>\n",
       "      <td>...</td>\n",
       "    </tr>\n",
       "    <tr>\n",
       "      <th>317</th>\n",
       "      <td>WRG</td>\n",
       "      <td>Wrangell Airport</td>\n",
       "      <td>Wrangell</td>\n",
       "      <td>AK</td>\n",
       "      <td>USA</td>\n",
       "      <td>56.48433</td>\n",
       "      <td>-132.36982</td>\n",
       "    </tr>\n",
       "    <tr>\n",
       "      <th>318</th>\n",
       "      <td>WYS</td>\n",
       "      <td>Westerly State Airport</td>\n",
       "      <td>West Yellowstone</td>\n",
       "      <td>MT</td>\n",
       "      <td>USA</td>\n",
       "      <td>44.68840</td>\n",
       "      <td>-111.11764</td>\n",
       "    </tr>\n",
       "    <tr>\n",
       "      <th>319</th>\n",
       "      <td>XNA</td>\n",
       "      <td>Northwest Arkansas Regional Airport</td>\n",
       "      <td>Fayetteville/Springdale/Rogers</td>\n",
       "      <td>AR</td>\n",
       "      <td>USA</td>\n",
       "      <td>36.28187</td>\n",
       "      <td>-94.30681</td>\n",
       "    </tr>\n",
       "    <tr>\n",
       "      <th>320</th>\n",
       "      <td>YAK</td>\n",
       "      <td>Yakutat Airport</td>\n",
       "      <td>Yakutat</td>\n",
       "      <td>AK</td>\n",
       "      <td>USA</td>\n",
       "      <td>59.50336</td>\n",
       "      <td>-139.66023</td>\n",
       "    </tr>\n",
       "    <tr>\n",
       "      <th>321</th>\n",
       "      <td>YUM</td>\n",
       "      <td>Yuma International Airport</td>\n",
       "      <td>Yuma</td>\n",
       "      <td>AZ</td>\n",
       "      <td>USA</td>\n",
       "      <td>32.65658</td>\n",
       "      <td>-114.60597</td>\n",
       "    </tr>\n",
       "  </tbody>\n",
       "</table>\n",
       "<p>322 rows × 7 columns</p>\n",
       "</div>"
      ],
      "text/plain": [
       "    IATA_CODE                              AIRPORT  \\\n",
       "0         ABE  Lehigh Valley International Airport   \n",
       "1         ABI             Abilene Regional Airport   \n",
       "2         ABQ    Albuquerque International Sunport   \n",
       "3         ABR            Aberdeen Regional Airport   \n",
       "4         ABY   Southwest Georgia Regional Airport   \n",
       "..        ...                                  ...   \n",
       "317       WRG                     Wrangell Airport   \n",
       "318       WYS               Westerly State Airport   \n",
       "319       XNA  Northwest Arkansas Regional Airport   \n",
       "320       YAK                      Yakutat Airport   \n",
       "321       YUM           Yuma International Airport   \n",
       "\n",
       "                               CITY STATE COUNTRY  LATITUDE  LONGITUDE  \n",
       "0                         Allentown    PA     USA  40.65236  -75.44040  \n",
       "1                           Abilene    TX     USA  32.41132  -99.68190  \n",
       "2                       Albuquerque    NM     USA  35.04022 -106.60919  \n",
       "3                          Aberdeen    SD     USA  45.44906  -98.42183  \n",
       "4                            Albany    GA     USA  31.53552  -84.19447  \n",
       "..                              ...   ...     ...       ...        ...  \n",
       "317                        Wrangell    AK     USA  56.48433 -132.36982  \n",
       "318                West Yellowstone    MT     USA  44.68840 -111.11764  \n",
       "319  Fayetteville/Springdale/Rogers    AR     USA  36.28187  -94.30681  \n",
       "320                         Yakutat    AK     USA  59.50336 -139.66023  \n",
       "321                            Yuma    AZ     USA  32.65658 -114.60597  \n",
       "\n",
       "[322 rows x 7 columns]"
      ]
     },
     "execution_count": 8,
     "metadata": {},
     "output_type": "execute_result"
    }
   ],
   "source": [
    "df2 = pd.read_csv(r\"C:\\Users\\nhnah\\OneDrive\\Desktop\\airports.csv\")\n",
    "df2"
   ]
  },
  {
   "cell_type": "code",
   "execution_count": 9,
   "id": "b97abd76",
   "metadata": {},
   "outputs": [
    {
     "name": "stdout",
     "output_type": "stream",
     "text": [
      "<class 'pandas.core.frame.DataFrame'>\n",
      "RangeIndex: 322 entries, 0 to 321\n",
      "Data columns (total 7 columns):\n",
      " #   Column     Non-Null Count  Dtype  \n",
      "---  ------     --------------  -----  \n",
      " 0   IATA_CODE  322 non-null    object \n",
      " 1   AIRPORT    322 non-null    object \n",
      " 2   CITY       322 non-null    object \n",
      " 3   STATE      322 non-null    object \n",
      " 4   COUNTRY    322 non-null    object \n",
      " 5   LATITUDE   322 non-null    float64\n",
      " 6   LONGITUDE  322 non-null    float64\n",
      "dtypes: float64(2), object(5)\n",
      "memory usage: 17.7+ KB\n"
     ]
    }
   ],
   "source": [
    "df2.info()"
   ]
  },
  {
   "cell_type": "code",
   "execution_count": 10,
   "id": "54fa9712",
   "metadata": {},
   "outputs": [
    {
     "data": {
      "text/plain": [
       "IATA_CODE    0\n",
       "AIRPORT      0\n",
       "CITY         0\n",
       "STATE        0\n",
       "COUNTRY      0\n",
       "LATITUDE     0\n",
       "LONGITUDE    0\n",
       "dtype: int64"
      ]
     },
     "execution_count": 10,
     "metadata": {},
     "output_type": "execute_result"
    }
   ],
   "source": [
    "df2.isnull().sum()"
   ]
  },
  {
   "cell_type": "code",
   "execution_count": 11,
   "id": "5edeec3e",
   "metadata": {},
   "outputs": [
    {
     "name": "stdout",
     "output_type": "stream",
     "text": [
      "Airlines shape: (14, 2)\n",
      "Flights shape: (274964, 31)\n",
      "Airports shape: (322, 7)\n"
     ]
    }
   ],
   "source": [
    "#Get the shape of each df to get an idea about the number of instances\n",
    "print('Airlines shape: {}'.format(df1.shape),\n",
    "       'Flights shape: {}'.format(df.shape),\n",
    "       'Airports shape: {}'.format(df2.shape),\n",
    "       sep='\\n')"
   ]
  },
  {
   "cell_type": "markdown",
   "id": "813a23fe",
   "metadata": {},
   "source": [
    "### Data Cleaning/Pre-processing"
   ]
  },
  {
   "cell_type": "code",
   "execution_count": 12,
   "id": "7710a765",
   "metadata": {},
   "outputs": [
    {
     "data": {
      "text/plain": [
       "array(['DL', 'AA', 'AS', 'US', 'OO', 'WN', 'UA', 'EV', 'B6', 'HA', 'F9',\n",
       "       'MQ', 'VX', 'NK'], dtype=object)"
      ]
     },
     "execution_count": 12,
     "metadata": {},
     "output_type": "execute_result"
    }
   ],
   "source": [
    "# Check unique values in Airline column from flights.csv file\n",
    "df.AIRLINE.unique()"
   ]
  },
  {
   "cell_type": "code",
   "execution_count": 13,
   "id": "ebf2047f",
   "metadata": {},
   "outputs": [],
   "source": [
    "# Renaming airline codes to company names\n",
    "\n",
    "df['AIRLINE'].replace({\n",
    "   'UA':'United Air Lines Inc.',\n",
    "   'AA':'American Airlines Inc.',\n",
    "   'US':'Airways Inc.',\n",
    "   'F9':'Frontier Airlines Inc.',\n",
    "   'B6':'JetBlue Airways',\n",
    "   'OO':'Skywest Airlines Inc.',\n",
    "   'AS':'Alaska Airlines Inc.',\n",
    "   'NK':'Spirit Air Lines',\n",
    "   'WN':'Southwest Airlines Co.',\n",
    "   'DL':'Delta Air Lines Inc.',\n",
    "   'EV':'Atlantic Southeast Airlines',\n",
    "   'HA':'Hawaiian Airlines Inc.',\n",
    "   'MQ':'American Eagle Airlines Inc.',\n",
    "   'VX':'Virgin America'\n",
    "\n",
    "},inplace=True)"
   ]
  },
  {
   "cell_type": "code",
   "execution_count": 14,
   "id": "bff99050",
   "metadata": {},
   "outputs": [
    {
     "data": {
      "text/plain": [
       "array(['Delta Air Lines Inc.', 'American Airlines Inc.',\n",
       "       'Alaska Airlines Inc.', 'Airways Inc.', 'Skywest Airlines Inc.',\n",
       "       'Southwest Airlines Co.', 'United Air Lines Inc.',\n",
       "       'Atlantic Southeast Airlines', 'JetBlue Airways',\n",
       "       'Hawaiian Airlines Inc.', 'Frontier Airlines Inc.',\n",
       "       'American Eagle Airlines Inc.', 'Virgin America',\n",
       "       'Spirit Air Lines'], dtype=object)"
      ]
     },
     "execution_count": 14,
     "metadata": {},
     "output_type": "execute_result"
    }
   ],
   "source": [
    "df.AIRLINE.unique()"
   ]
  },
  {
   "cell_type": "code",
   "execution_count": 15,
   "id": "b9e9a6bf",
   "metadata": {},
   "outputs": [
    {
     "data": {
      "text/plain": [
       "array([11,  8,  6,  3,  9,  7,  5,  1,  2, 12,  4], dtype=int64)"
      ]
     },
     "execution_count": 15,
     "metadata": {},
     "output_type": "execute_result"
    }
   ],
   "source": [
    "#Check unique values of MONTH Column from flights.csv file \n",
    "df.MONTH.unique()"
   ]
  },
  {
   "cell_type": "code",
   "execution_count": 16,
   "id": "516dbde1",
   "metadata": {},
   "outputs": [],
   "source": [
    "#Replacing Month values with Month Name\n",
    "df['MONTH'].replace({\n",
    "   1:'January',\n",
    "   2:'February',\n",
    "   3:'March',\n",
    "   4:'April',\n",
    "   5:'May',\n",
    "   6:'June',\n",
    "   7:'July',\n",
    "   8:'August',\n",
    "   9:'September',\n",
    "   10:'October',\n",
    "   11:'November',\n",
    "   12:'December'\n",
    "},inplace=True)\n"
   ]
  },
  {
   "cell_type": "code",
   "execution_count": 17,
   "id": "e12cf1a2",
   "metadata": {},
   "outputs": [
    {
     "data": {
      "text/plain": [
       "array([6, 1, 5, 7, 2, 3, 4], dtype=int64)"
      ]
     },
     "execution_count": 17,
     "metadata": {},
     "output_type": "execute_result"
    }
   ],
   "source": [
    "#Check unique values of DAY_OF_WEEK Column from flights.csv file\n",
    "df.DAY_OF_WEEK.unique()"
   ]
  },
  {
   "cell_type": "code",
   "execution_count": 18,
   "id": "d1979519",
   "metadata": {},
   "outputs": [],
   "source": [
    "#Replacing Day of Week values with Day Name\n",
    "df['DAY_OF_WEEK'].replace({\n",
    "   1:'Monday',\n",
    "   2:'Tuesday',\n",
    "   3:'Wednesday',\n",
    "   4:'Thursday',\n",
    "   5:'Friday',\n",
    "   6:'Saturday',\n",
    "   7:'Sunday'\n",
    "},inplace=True)"
   ]
  },
  {
   "cell_type": "code",
   "execution_count": 19,
   "id": "12e40c84",
   "metadata": {},
   "outputs": [
    {
     "data": {
      "text/plain": [
       "array(['Saturday', 'Monday', 'Friday', 'Sunday', 'Tuesday', 'Wednesday',\n",
       "       'Thursday'], dtype=object)"
      ]
     },
     "execution_count": 19,
     "metadata": {},
     "output_type": "execute_result"
    }
   ],
   "source": [
    "df.DAY_OF_WEEK.unique()"
   ]
  },
  {
   "cell_type": "markdown",
   "id": "425ff828",
   "metadata": {},
   "source": [
    "### Cancelled Flights Exploration"
   ]
  },
  {
   "cell_type": "code",
   "execution_count": 20,
   "id": "6997f85b",
   "metadata": {},
   "outputs": [
    {
     "data": {
      "text/plain": [
       "4433"
      ]
     },
     "execution_count": 20,
     "metadata": {},
     "output_type": "execute_result"
    }
   ],
   "source": [
    "# Total number of canceled flights\n",
    "df.CANCELLED.sum()"
   ]
  },
  {
   "cell_type": "code",
   "execution_count": 21,
   "id": "e6b41497",
   "metadata": {},
   "outputs": [
    {
     "data": {
      "text/plain": [
       "array([0, 1], dtype=int64)"
      ]
     },
     "execution_count": 21,
     "metadata": {},
     "output_type": "execute_result"
    }
   ],
   "source": [
    "# Let's explore column CANCELLED\n",
    "df.CANCELLED.unique()"
   ]
  },
  {
   "cell_type": "code",
   "execution_count": 22,
   "id": "d5fd049b",
   "metadata": {},
   "outputs": [
    {
     "data": {
      "text/html": [
       "<div>\n",
       "<style scoped>\n",
       "    .dataframe tbody tr th:only-of-type {\n",
       "        vertical-align: middle;\n",
       "    }\n",
       "\n",
       "    .dataframe tbody tr th {\n",
       "        vertical-align: top;\n",
       "    }\n",
       "\n",
       "    .dataframe thead th {\n",
       "        text-align: right;\n",
       "    }\n",
       "</style>\n",
       "<table border=\"1\" class=\"dataframe\">\n",
       "  <thead>\n",
       "    <tr style=\"text-align: right;\">\n",
       "      <th></th>\n",
       "      <th>YEAR</th>\n",
       "      <th>MONTH</th>\n",
       "      <th>DAY</th>\n",
       "      <th>DAY_OF_WEEK</th>\n",
       "      <th>AIRLINE</th>\n",
       "      <th>FLIGHT_NUMBER</th>\n",
       "      <th>TAIL_NUMBER</th>\n",
       "      <th>ORIGIN_AIRPORT</th>\n",
       "      <th>DESTINATION_AIRPORT</th>\n",
       "      <th>SCHEDULED_DEPARTURE</th>\n",
       "      <th>...</th>\n",
       "      <th>ARRIVAL_TIME</th>\n",
       "      <th>ARRIVAL_DELAY</th>\n",
       "      <th>DIVERTED</th>\n",
       "      <th>CANCELLED</th>\n",
       "      <th>CANCELLATION_REASON</th>\n",
       "      <th>AIR_SYSTEM_DELAY</th>\n",
       "      <th>SECURITY_DELAY</th>\n",
       "      <th>AIRLINE_DELAY</th>\n",
       "      <th>LATE_AIRCRAFT_DELAY</th>\n",
       "      <th>WEATHER_DELAY</th>\n",
       "    </tr>\n",
       "  </thead>\n",
       "  <tbody>\n",
       "    <tr>\n",
       "      <th>125</th>\n",
       "      <td>2015</td>\n",
       "      <td>January</td>\n",
       "      <td>23</td>\n",
       "      <td>Friday</td>\n",
       "      <td>Atlantic Southeast Airlines</td>\n",
       "      <td>4091</td>\n",
       "      <td>N12540</td>\n",
       "      <td>IND</td>\n",
       "      <td>EWR</td>\n",
       "      <td>1922</td>\n",
       "      <td>...</td>\n",
       "      <td>NaN</td>\n",
       "      <td>0</td>\n",
       "      <td>0</td>\n",
       "      <td>1</td>\n",
       "      <td>Weather</td>\n",
       "      <td>0</td>\n",
       "      <td>0</td>\n",
       "      <td>0</td>\n",
       "      <td>0</td>\n",
       "      <td>0</td>\n",
       "    </tr>\n",
       "    <tr>\n",
       "      <th>247</th>\n",
       "      <td>2015</td>\n",
       "      <td>March</td>\n",
       "      <td>2</td>\n",
       "      <td>Monday</td>\n",
       "      <td>Atlantic Southeast Airlines</td>\n",
       "      <td>4926</td>\n",
       "      <td>N849AS</td>\n",
       "      <td>GSO</td>\n",
       "      <td>DTW</td>\n",
       "      <td>720</td>\n",
       "      <td>...</td>\n",
       "      <td>NaN</td>\n",
       "      <td>0</td>\n",
       "      <td>0</td>\n",
       "      <td>1</td>\n",
       "      <td>Weather</td>\n",
       "      <td>0</td>\n",
       "      <td>0</td>\n",
       "      <td>0</td>\n",
       "      <td>0</td>\n",
       "      <td>0</td>\n",
       "    </tr>\n",
       "    <tr>\n",
       "      <th>259</th>\n",
       "      <td>2015</td>\n",
       "      <td>March</td>\n",
       "      <td>1</td>\n",
       "      <td>Sunday</td>\n",
       "      <td>Atlantic Southeast Airlines</td>\n",
       "      <td>4345</td>\n",
       "      <td>N11199</td>\n",
       "      <td>IAH</td>\n",
       "      <td>CRP</td>\n",
       "      <td>914</td>\n",
       "      <td>...</td>\n",
       "      <td>NaN</td>\n",
       "      <td>0</td>\n",
       "      <td>0</td>\n",
       "      <td>1</td>\n",
       "      <td>Weather</td>\n",
       "      <td>0</td>\n",
       "      <td>0</td>\n",
       "      <td>0</td>\n",
       "      <td>0</td>\n",
       "      <td>0</td>\n",
       "    </tr>\n",
       "  </tbody>\n",
       "</table>\n",
       "<p>3 rows × 31 columns</p>\n",
       "</div>"
      ],
      "text/plain": [
       "     YEAR    MONTH  DAY DAY_OF_WEEK                      AIRLINE  \\\n",
       "125  2015  January   23      Friday  Atlantic Southeast Airlines   \n",
       "247  2015    March    2      Monday  Atlantic Southeast Airlines   \n",
       "259  2015    March    1      Sunday  Atlantic Southeast Airlines   \n",
       "\n",
       "     FLIGHT_NUMBER TAIL_NUMBER ORIGIN_AIRPORT DESTINATION_AIRPORT  \\\n",
       "125           4091      N12540            IND                 EWR   \n",
       "247           4926      N849AS            GSO                 DTW   \n",
       "259           4345      N11199            IAH                 CRP   \n",
       "\n",
       "     SCHEDULED_DEPARTURE  ...  ARRIVAL_TIME  ARRIVAL_DELAY  DIVERTED  \\\n",
       "125                 1922  ...           NaN              0         0   \n",
       "247                  720  ...           NaN              0         0   \n",
       "259                  914  ...           NaN              0         0   \n",
       "\n",
       "     CANCELLED  CANCELLATION_REASON  AIR_SYSTEM_DELAY  SECURITY_DELAY  \\\n",
       "125          1              Weather                 0               0   \n",
       "247          1              Weather                 0               0   \n",
       "259          1              Weather                 0               0   \n",
       "\n",
       "     AIRLINE_DELAY  LATE_AIRCRAFT_DELAY  WEATHER_DELAY  \n",
       "125              0                    0              0  \n",
       "247              0                    0              0  \n",
       "259              0                    0              0  \n",
       "\n",
       "[3 rows x 31 columns]"
      ]
     },
     "execution_count": 22,
     "metadata": {},
     "output_type": "execute_result"
    }
   ],
   "source": [
    "# From above we see it's binary: 0 or 1, let's see how it looks like\n",
    "cancelled = df[(df['CANCELLED'] > 0)]\n",
    "cancelled.head(3)"
   ]
  },
  {
   "cell_type": "markdown",
   "id": "6cb3b9e6",
   "metadata": {},
   "source": [
    "###### Canceled flights are not delayed flights.If canceled, the flight didn’t happen, and values are NaN. We can filter out Canceled Flights for our analysis. Departure Delay is actual Departure Time. Arrival Delay is total delay on Arrival in minutes. If both of these numbers are negative then there was no delay."
   ]
  },
  {
   "cell_type": "markdown",
   "id": "4356c44f",
   "metadata": {},
   "source": [
    "### Departure Delay and Arrival Delay Exploration"
   ]
  },
  {
   "cell_type": "code",
   "execution_count": 23,
   "id": "8d881c2e",
   "metadata": {},
   "outputs": [
    {
     "data": {
      "text/plain": [
       "0    -5\n",
       "1    28\n",
       "2    -2\n",
       "3     2\n",
       "4    -5\n",
       "Name: DEPARTURE_DELAY, dtype: int64"
      ]
     },
     "execution_count": 23,
     "metadata": {},
     "output_type": "execute_result"
    }
   ],
   "source": [
    "# Departure delay data (in minutes)\n",
    "df.DEPARTURE_DELAY.head()"
   ]
  },
  {
   "cell_type": "code",
   "execution_count": 24,
   "id": "28c6f358",
   "metadata": {},
   "outputs": [
    {
     "data": {
      "text/plain": [
       "0"
      ]
     },
     "execution_count": 24,
     "metadata": {},
     "output_type": "execute_result"
    }
   ],
   "source": [
    "df.DEPARTURE_DELAY.isnull().sum()"
   ]
  },
  {
   "cell_type": "code",
   "execution_count": 25,
   "id": "3687788c",
   "metadata": {},
   "outputs": [
    {
     "data": {
      "text/plain": [
       "0   -12\n",
       "1    41\n",
       "2   -16\n",
       "3    -7\n",
       "4    -6\n",
       "Name: ARRIVAL_DELAY, dtype: int64"
      ]
     },
     "execution_count": 25,
     "metadata": {},
     "output_type": "execute_result"
    }
   ],
   "source": [
    "# Arrival delay data (in minutes)\n",
    "df.ARRIVAL_DELAY.head()"
   ]
  },
  {
   "cell_type": "markdown",
   "id": "1f184440",
   "metadata": {},
   "source": [
    "###### If a number is positive then the flight delayed since that we’re exploring only delayed flights, non-delayed should be disregarded.The problem of keeping those is, if we summarise for plotting for example, we’ll get false data because sum of delayed minutes will be less and the negative numbers that will subtract the real delays. Let’s define what a delayed flight is: A Delayed flight is a flight that arrives late at its destination.Flight can be delayed on departure but still, arrive on time is not a delayed flight."
   ]
  },
  {
   "cell_type": "code",
   "execution_count": 26,
   "id": "ce7bd428",
   "metadata": {},
   "outputs": [
    {
     "data": {
      "text/plain": [
       "YEAR                   100463\n",
       "MONTH                  100463\n",
       "DAY                    100463\n",
       "DAY_OF_WEEK            100463\n",
       "AIRLINE                100463\n",
       "FLIGHT_NUMBER          100463\n",
       "TAIL_NUMBER            100463\n",
       "ORIGIN_AIRPORT         100463\n",
       "DESTINATION_AIRPORT    100463\n",
       "SCHEDULED_DEPARTURE    100463\n",
       "DEPARTURE_TIME         100463\n",
       "DEPARTURE_DELAY        100463\n",
       "TAXI_OUT               100463\n",
       "WHEELS_OFF             100463\n",
       "SCHEDULED_TIME         100463\n",
       "ELAPSED_TIME           100463\n",
       "AIR_TIME               100463\n",
       "DISTANCE               100463\n",
       "WHEELS_ON              100463\n",
       "TAXI_IN                100463\n",
       "SCHEDULED_ARRIVAL      100463\n",
       "ARRIVAL_TIME           100463\n",
       "ARRIVAL_DELAY          100463\n",
       "DIVERTED               100463\n",
       "CANCELLED              100463\n",
       "CANCELLATION_REASON    100463\n",
       "AIR_SYSTEM_DELAY       100463\n",
       "SECURITY_DELAY         100463\n",
       "AIRLINE_DELAY          100463\n",
       "LATE_AIRCRAFT_DELAY    100463\n",
       "WEATHER_DELAY          100463\n",
       "dtype: int64"
      ]
     },
     "execution_count": 26,
     "metadata": {},
     "output_type": "execute_result"
    }
   ],
   "source": [
    "# To do this analysis right, let's filter all negative numbers in ARRIVAL_DELAY column\n",
    "# Number of delayed flights \n",
    "df[df.ARRIVAL_DELAY > 0 ].count()"
   ]
  },
  {
   "cell_type": "code",
   "execution_count": 27,
   "id": "b7cc1798",
   "metadata": {},
   "outputs": [],
   "source": [
    "# Filter out non-delayed flights < 0 DEP_DELAY\n",
    "df = df[(df['ARRIVAL_DELAY'] > 0)]"
   ]
  },
  {
   "cell_type": "code",
   "execution_count": 28,
   "id": "16feb390",
   "metadata": {},
   "outputs": [
    {
     "data": {
      "text/plain": [
       "YEAR                   0\n",
       "MONTH                  0\n",
       "DAY                    0\n",
       "DAY_OF_WEEK            0\n",
       "AIRLINE                0\n",
       "FLIGHT_NUMBER          0\n",
       "TAIL_NUMBER            0\n",
       "ORIGIN_AIRPORT         0\n",
       "DESTINATION_AIRPORT    0\n",
       "SCHEDULED_DEPARTURE    0\n",
       "DEPARTURE_TIME         0\n",
       "DEPARTURE_DELAY        0\n",
       "TAXI_OUT               0\n",
       "WHEELS_OFF             0\n",
       "SCHEDULED_TIME         0\n",
       "ELAPSED_TIME           0\n",
       "AIR_TIME               0\n",
       "DISTANCE               0\n",
       "WHEELS_ON              0\n",
       "TAXI_IN                0\n",
       "SCHEDULED_ARRIVAL      0\n",
       "ARRIVAL_TIME           0\n",
       "ARRIVAL_DELAY          0\n",
       "DIVERTED               0\n",
       "CANCELLED              0\n",
       "CANCELLATION_REASON    0\n",
       "AIR_SYSTEM_DELAY       0\n",
       "SECURITY_DELAY         0\n",
       "AIRLINE_DELAY          0\n",
       "LATE_AIRCRAFT_DELAY    0\n",
       "WEATHER_DELAY          0\n",
       "dtype: int64"
      ]
     },
     "execution_count": 28,
     "metadata": {},
     "output_type": "execute_result"
    }
   ],
   "source": [
    "df.isnull().sum()"
   ]
  },
  {
   "cell_type": "code",
   "execution_count": 29,
   "id": "3eb63f59",
   "metadata": {},
   "outputs": [
    {
     "data": {
      "image/png": "[encoded data removed]",
      "text/plain": [
       "<Figure size 720x360 with 2 Axes>"
      ]
     },
     "metadata": {
      "needs_background": "light"
     },
     "output_type": "display_data"
    }
   ],
   "source": [
    "# Checking Correlation \n",
    "import seaborn as sns\n",
    "import matplotlib.pyplot as plt\n",
    "corr_mat=df[['ARRIVAL_DELAY','DEPARTURE_DELAY','DISTANCE','SCHEDULED_TIME','ELAPSED_TIME','AIR_TIME','TAXI_IN','TAXI_OUT']].corr()\n",
    "fig,ax=plt.subplots(figsize=(10,5))\n",
    "sns.heatmap(corr_mat,annot=True,ax=ax)\n",
    "ax.set_title('Correlation Matrix of Delays')\n",
    "plt.show()"
   ]
  },
  {
   "cell_type": "markdown",
   "id": "84c4979a",
   "metadata": {},
   "source": [
    " ##### From above, we can see that Arrival Delay and Departure Delay have more strong relationship compared to others and maximum of the Arrival delays happened due to Departure delays but some flights still arrived on time even after departed late from the airport."
   ]
  },
  {
   "cell_type": "code",
   "execution_count": 30,
   "id": "3b54bfb0",
   "metadata": {},
   "outputs": [
    {
     "data": {
      "image/png": "[encoded data removed]",
      "text/plain": [
       "<Figure size 432x288 with 1 Axes>"
      ]
     },
     "metadata": {
      "needs_background": "light"
     },
     "output_type": "display_data"
    }
   ],
   "source": [
    "import matplotlib.pyplot as plt\n",
    "%matplotlib inline\n",
    "plt.boxplot(df.loc[:, ['ARRIVAL_DELAY']],showfliers=False)\n",
    "plt.ylabel('minutes of delays')\n",
    "plt.title('Distribution of Arrival Delays')\n",
    "plt.show()"
   ]
  },
  {
   "cell_type": "markdown",
   "id": "b590aa1c",
   "metadata": {},
   "source": [
    "######  Data Visualization"
   ]
  },
  {
   "cell_type": "code",
   "execution_count": 31,
   "id": "b962fa57",
   "metadata": {},
   "outputs": [
    {
     "data": {
      "image/png": "[encoded data removed]",
      "text/plain": [
       "<Figure size 1800x864 with 2 Axes>"
      ]
     },
     "metadata": {
      "needs_background": "light"
     },
     "output_type": "display_data"
    }
   ],
   "source": [
    "import matplotlib.pyplot as plt\n",
    "%matplotlib inline\n",
    "# Arrival and departure delays by month of the year\n",
    "plt.figure(figsize=(25, 12)).subplots_adjust(hspace = 0.5)\n",
    "\n",
    "plt.subplot(2, 2 ,1)\n",
    "df.groupby('MONTH').ARRIVAL_DELAY.sum().sort_values(ascending=False).plot.bar()\n",
    "plt.title('Arrival Delays By Month', fontsize=16)\n",
    "plt.ylabel('Minutes', fontsize=14)\n",
    "#plt.xlabel('Month of the year', fontsize=14)\n",
    "\n",
    "plt.subplot(2, 2 ,2)\n",
    "df.groupby('MONTH').DEPARTURE_DELAY.sum().sort_values(ascending=False).plot.bar()\n",
    "plt.title('Departure Delays By Month', fontsize=16)\n",
    "plt.ylabel('Minutes', fontsize=16)\n",
    "#plt.xlabel('Month of the year', fontsize=16)\n",
    "\n",
    "plt.show()"
   ]
  },
  {
   "cell_type": "code",
   "execution_count": 32,
   "id": "b8c36183",
   "metadata": {},
   "outputs": [
    {
     "data": {
      "image/png": "[encoded data removed]",
      "text/plain": [
       "<Figure size 1440x432 with 1 Axes>"
      ]
     },
     "metadata": {
      "needs_background": "light"
     },
     "output_type": "display_data"
    }
   ],
   "source": [
    "# Delays by airlines\n",
    "import matplotlib.pyplot as plt\n",
    "plt.figure(figsize=(20, 6))\n",
    "df.groupby('AIRLINE').ARRIVAL_DELAY.sum().sort_values(ascending=False).plot.bar()\n",
    "plt.title('Delays by AIRLINES', fontsize=16)\n",
    "plt.xlabel('Airline', fontsize=14)\n",
    "plt.ylabel('Minutes', fontsize=14)\n",
    "plt.show()"
   ]
  }
 ],
 "metadata": {
  "kernelspec": {
   "display_name": "Python 3 (ipykernel)",
   "language": "python",
   "name": "python3"
  },
  "language_info": {
   "codemirror_mode": {
    "name": "ipython",
    "version": 3
   },
   "file_extension": ".py",
   "mimetype": "text/x-python",
   "name": "python",
   "nbconvert_exporter": "python",
   "pygments_lexer": "ipython3",
   "version": "3.9.7"
  }
 },
 "nbformat": 4,
 "nbformat_minor": 5
}
